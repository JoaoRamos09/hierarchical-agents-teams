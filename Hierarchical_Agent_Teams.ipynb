{
  "nbformat": 4,
  "nbformat_minor": 0,
  "metadata": {
    "colab": {
      "provenance": []
    },
    "kernelspec": {
      "name": "python3",
      "display_name": "Python 3"
    },
    "language_info": {
      "name": "python"
    }
  },
  "cells": [
    {
      "cell_type": "markdown",
      "source": [
        "# Hierarchical Agent Teams\n",
        "\n",
        "Neste exemplo, vamos implementar a arquitetura de múltiplos agentes contendo uma hierarquia principal e uma hierarquia intermediária, tudo isso a partir de uma lógica de agentes que irão definir o funcionamento e o direcionamento dos agentes.\n",
        "\n",
        "O exemplo será sobre um **Assistante de Pesquisa Simples**\n",
        "\n",
        "Vamos colocar este modelo em prática, iremos seguir os seguintes passos:\n",
        "\n",
        "1. Definir as ferramentas do agentes para acessar e gravar os arquivos;\n",
        "2. Definir alguns utilitários para ajudar a criar o gráfico e os agentes;\n",
        "3. Criar e definir cada equipe (pesquisa web + redação de documentos);\n",
        "4. Compor tudo junto;"
      ],
      "metadata": {
        "id": "fbTC8qQkNemv"
      }
    },
    {
      "cell_type": "markdown",
      "source": [
        "## Setup\n",
        "\n",
        "Baixando os pacotes e passando as variáveis de ambiente."
      ],
      "metadata": {
        "id": "ORZdoaqAQdiS"
      }
    },
    {
      "cell_type": "code",
      "execution_count": 1,
      "metadata": {
        "colab": {
          "base_uri": "https://localhost:8080/"
        },
        "collapsed": true,
        "id": "AMSYkvSeNMYP",
        "outputId": "97516353-eb4b-4db5-ef1d-03bfca855f1f"
      },
      "outputs": [
        {
          "output_type": "stream",
          "name": "stdout",
          "text": [
            "Requirement already satisfied: langgraph in /usr/local/lib/python3.10/dist-packages (0.2.39)\n",
            "Requirement already satisfied: langchain in /usr/local/lib/python3.10/dist-packages (0.3.4)\n",
            "Requirement already satisfied: langchain_openai in /usr/local/lib/python3.10/dist-packages (0.2.3)\n",
            "Requirement already satisfied: langchain_experimental in /usr/local/lib/python3.10/dist-packages (0.3.2)\n",
            "Requirement already satisfied: langchain-core<0.4,>=0.2.39 in /usr/local/lib/python3.10/dist-packages (from langgraph) (0.3.12)\n",
            "Requirement already satisfied: langgraph-checkpoint<3.0.0,>=2.0.0 in /usr/local/lib/python3.10/dist-packages (from langgraph) (2.0.1)\n",
            "Requirement already satisfied: langgraph-sdk<0.2.0,>=0.1.32 in /usr/local/lib/python3.10/dist-packages (from langgraph) (0.1.33)\n",
            "Requirement already satisfied: PyYAML>=5.3 in /usr/local/lib/python3.10/dist-packages (from langchain) (6.0.2)\n",
            "Requirement already satisfied: SQLAlchemy<3,>=1.4 in /usr/local/lib/python3.10/dist-packages (from langchain) (2.0.36)\n",
            "Requirement already satisfied: aiohttp<4.0.0,>=3.8.3 in /usr/local/lib/python3.10/dist-packages (from langchain) (3.10.10)\n",
            "Requirement already satisfied: async-timeout<5.0.0,>=4.0.0 in /usr/local/lib/python3.10/dist-packages (from langchain) (4.0.3)\n",
            "Requirement already satisfied: langchain-text-splitters<0.4.0,>=0.3.0 in /usr/local/lib/python3.10/dist-packages (from langchain) (0.3.0)\n",
            "Requirement already satisfied: langsmith<0.2.0,>=0.1.17 in /usr/local/lib/python3.10/dist-packages (from langchain) (0.1.136)\n",
            "Requirement already satisfied: numpy<2,>=1 in /usr/local/lib/python3.10/dist-packages (from langchain) (1.26.4)\n",
            "Requirement already satisfied: pydantic<3.0.0,>=2.7.4 in /usr/local/lib/python3.10/dist-packages (from langchain) (2.9.2)\n",
            "Requirement already satisfied: requests<3,>=2 in /usr/local/lib/python3.10/dist-packages (from langchain) (2.32.3)\n",
            "Requirement already satisfied: tenacity!=8.4.0,<10,>=8.1.0 in /usr/local/lib/python3.10/dist-packages (from langchain) (9.0.0)\n",
            "Requirement already satisfied: openai<2.0.0,>=1.52.0 in /usr/local/lib/python3.10/dist-packages (from langchain_openai) (1.52.0)\n",
            "Requirement already satisfied: tiktoken<1,>=0.7 in /usr/local/lib/python3.10/dist-packages (from langchain_openai) (0.8.0)\n",
            "Requirement already satisfied: langchain-community<0.4.0,>=0.3.0 in /usr/local/lib/python3.10/dist-packages (from langchain_experimental) (0.3.3)\n",
            "Requirement already satisfied: aiohappyeyeballs>=2.3.0 in /usr/local/lib/python3.10/dist-packages (from aiohttp<4.0.0,>=3.8.3->langchain) (2.4.3)\n",
            "Requirement already satisfied: aiosignal>=1.1.2 in /usr/local/lib/python3.10/dist-packages (from aiohttp<4.0.0,>=3.8.3->langchain) (1.3.1)\n",
            "Requirement already satisfied: attrs>=17.3.0 in /usr/local/lib/python3.10/dist-packages (from aiohttp<4.0.0,>=3.8.3->langchain) (24.2.0)\n",
            "Requirement already satisfied: frozenlist>=1.1.1 in /usr/local/lib/python3.10/dist-packages (from aiohttp<4.0.0,>=3.8.3->langchain) (1.4.1)\n",
            "Requirement already satisfied: multidict<7.0,>=4.5 in /usr/local/lib/python3.10/dist-packages (from aiohttp<4.0.0,>=3.8.3->langchain) (6.1.0)\n",
            "Requirement already satisfied: yarl<2.0,>=1.12.0 in /usr/local/lib/python3.10/dist-packages (from aiohttp<4.0.0,>=3.8.3->langchain) (1.15.4)\n",
            "Requirement already satisfied: dataclasses-json<0.7,>=0.5.7 in /usr/local/lib/python3.10/dist-packages (from langchain-community<0.4.0,>=0.3.0->langchain_experimental) (0.6.7)\n",
            "Requirement already satisfied: pydantic-settings<3.0.0,>=2.4.0 in /usr/local/lib/python3.10/dist-packages (from langchain-community<0.4.0,>=0.3.0->langchain_experimental) (2.6.0)\n",
            "Requirement already satisfied: jsonpatch<2.0,>=1.33 in /usr/local/lib/python3.10/dist-packages (from langchain-core<0.4,>=0.2.39->langgraph) (1.33)\n",
            "Requirement already satisfied: packaging<25,>=23.2 in /usr/local/lib/python3.10/dist-packages (from langchain-core<0.4,>=0.2.39->langgraph) (24.1)\n",
            "Requirement already satisfied: typing-extensions>=4.7 in /usr/local/lib/python3.10/dist-packages (from langchain-core<0.4,>=0.2.39->langgraph) (4.12.2)\n",
            "Requirement already satisfied: msgpack<2.0.0,>=1.1.0 in /usr/local/lib/python3.10/dist-packages (from langgraph-checkpoint<3.0.0,>=2.0.0->langgraph) (1.1.0)\n",
            "Requirement already satisfied: httpx>=0.25.2 in /usr/local/lib/python3.10/dist-packages (from langgraph-sdk<0.2.0,>=0.1.32->langgraph) (0.27.2)\n",
            "Requirement already satisfied: httpx-sse>=0.4.0 in /usr/local/lib/python3.10/dist-packages (from langgraph-sdk<0.2.0,>=0.1.32->langgraph) (0.4.0)\n",
            "Requirement already satisfied: orjson>=3.10.1 in /usr/local/lib/python3.10/dist-packages (from langgraph-sdk<0.2.0,>=0.1.32->langgraph) (3.10.9)\n",
            "Requirement already satisfied: requests-toolbelt<2.0.0,>=1.0.0 in /usr/local/lib/python3.10/dist-packages (from langsmith<0.2.0,>=0.1.17->langchain) (1.0.0)\n",
            "Requirement already satisfied: anyio<5,>=3.5.0 in /usr/local/lib/python3.10/dist-packages (from openai<2.0.0,>=1.52.0->langchain_openai) (3.7.1)\n",
            "Requirement already satisfied: distro<2,>=1.7.0 in /usr/lib/python3/dist-packages (from openai<2.0.0,>=1.52.0->langchain_openai) (1.7.0)\n",
            "Requirement already satisfied: jiter<1,>=0.4.0 in /usr/local/lib/python3.10/dist-packages (from openai<2.0.0,>=1.52.0->langchain_openai) (0.6.1)\n",
            "Requirement already satisfied: sniffio in /usr/local/lib/python3.10/dist-packages (from openai<2.0.0,>=1.52.0->langchain_openai) (1.3.1)\n",
            "Requirement already satisfied: tqdm>4 in /usr/local/lib/python3.10/dist-packages (from openai<2.0.0,>=1.52.0->langchain_openai) (4.66.5)\n",
            "Requirement already satisfied: annotated-types>=0.6.0 in /usr/local/lib/python3.10/dist-packages (from pydantic<3.0.0,>=2.7.4->langchain) (0.7.0)\n",
            "Requirement already satisfied: pydantic-core==2.23.4 in /usr/local/lib/python3.10/dist-packages (from pydantic<3.0.0,>=2.7.4->langchain) (2.23.4)\n",
            "Requirement already satisfied: charset-normalizer<4,>=2 in /usr/local/lib/python3.10/dist-packages (from requests<3,>=2->langchain) (3.4.0)\n",
            "Requirement already satisfied: idna<4,>=2.5 in /usr/local/lib/python3.10/dist-packages (from requests<3,>=2->langchain) (3.10)\n",
            "Requirement already satisfied: urllib3<3,>=1.21.1 in /usr/local/lib/python3.10/dist-packages (from requests<3,>=2->langchain) (2.2.3)\n",
            "Requirement already satisfied: certifi>=2017.4.17 in /usr/local/lib/python3.10/dist-packages (from requests<3,>=2->langchain) (2024.8.30)\n",
            "Requirement already satisfied: greenlet!=0.4.17 in /usr/local/lib/python3.10/dist-packages (from SQLAlchemy<3,>=1.4->langchain) (3.1.1)\n",
            "Requirement already satisfied: regex>=2022.1.18 in /usr/local/lib/python3.10/dist-packages (from tiktoken<1,>=0.7->langchain_openai) (2024.9.11)\n",
            "Requirement already satisfied: exceptiongroup in /usr/local/lib/python3.10/dist-packages (from anyio<5,>=3.5.0->openai<2.0.0,>=1.52.0->langchain_openai) (1.2.2)\n",
            "Requirement already satisfied: marshmallow<4.0.0,>=3.18.0 in /usr/local/lib/python3.10/dist-packages (from dataclasses-json<0.7,>=0.5.7->langchain-community<0.4.0,>=0.3.0->langchain_experimental) (3.23.0)\n",
            "Requirement already satisfied: typing-inspect<1,>=0.4.0 in /usr/local/lib/python3.10/dist-packages (from dataclasses-json<0.7,>=0.5.7->langchain-community<0.4.0,>=0.3.0->langchain_experimental) (0.9.0)\n",
            "Requirement already satisfied: httpcore==1.* in /usr/local/lib/python3.10/dist-packages (from httpx>=0.25.2->langgraph-sdk<0.2.0,>=0.1.32->langgraph) (1.0.6)\n",
            "Requirement already satisfied: h11<0.15,>=0.13 in /usr/local/lib/python3.10/dist-packages (from httpcore==1.*->httpx>=0.25.2->langgraph-sdk<0.2.0,>=0.1.32->langgraph) (0.14.0)\n",
            "Requirement already satisfied: jsonpointer>=1.9 in /usr/local/lib/python3.10/dist-packages (from jsonpatch<2.0,>=1.33->langchain-core<0.4,>=0.2.39->langgraph) (3.0.0)\n",
            "Requirement already satisfied: python-dotenv>=0.21.0 in /usr/local/lib/python3.10/dist-packages (from pydantic-settings<3.0.0,>=2.4.0->langchain-community<0.4.0,>=0.3.0->langchain_experimental) (1.0.1)\n",
            "Requirement already satisfied: propcache>=0.2.0 in /usr/local/lib/python3.10/dist-packages (from yarl<2.0,>=1.12.0->aiohttp<4.0.0,>=3.8.3->langchain) (0.2.0)\n",
            "Requirement already satisfied: mypy-extensions>=0.3.0 in /usr/local/lib/python3.10/dist-packages (from typing-inspect<1,>=0.4.0->dataclasses-json<0.7,>=0.5.7->langchain-community<0.4.0,>=0.3.0->langchain_experimental) (1.0.0)\n"
          ]
        }
      ],
      "source": [
        "!pip install -U langgraph langchain langchain_openai langchain_experimental"
      ]
    },
    {
      "cell_type": "code",
      "source": [
        "from google.colab import userdata\n",
        "import os\n",
        "\n",
        "OPENAI_API_KEY = userdata.get('OPENAI_API_KEY')\n",
        "TAVILY_API_KEY = userdata.get('TAVILY_API_KEY')\n",
        "LANGCHAIN_API_KEY = userdata.get('LANGCHAIN_API_KEY')\n",
        "\n",
        "os.environ[\"TAVILY_API_KEY\"] = TAVILY_API_KEY\n",
        "os.environ[\"OPENAI_API_KEY\"] = OPENAI_API_KEY\n",
        "os.environ['LANGCHAIN_API_KEY'] = LANGCHAIN_API_KEY\n",
        "os.environ['LANGCHAIN_ENDPOINT'] = \"https://api.smith.langchain.com\"\n",
        "os.environ['LANGCHAIN_TRACING_V2'] = \"true\"\n",
        "os.environ['LANGCHAIN_PROJECT'] = \"HIERARCHICAL-AGENTS-TEAMS\""
      ],
      "metadata": {
        "id": "k_iBuwSsROva"
      },
      "execution_count": 2,
      "outputs": []
    },
    {
      "cell_type": "markdown",
      "source": [
        "## Criando as Tools\n",
        "\n",
        "Cada equipe será composta por um ou mais agentes, cada um com uma ou mais ferramentas\n"
      ],
      "metadata": {
        "id": "nhwUnCoq1SQM"
      }
    },
    {
      "cell_type": "markdown",
      "source": [
        "#### Tools ResearchTeam\n",
        "\n",
        "Teremos as seguintes ferramentas:\n",
        "* `scrape_webpages`\n",
        "* `tavily_tool`\n",
        "\n",
        "Serão responsáveis por realizar as buscas na internet e raspar o URL, para encontrar as informações corretas."
      ],
      "metadata": {
        "id": "ilTmuEWx2QQA"
      }
    },
    {
      "cell_type": "code",
      "source": [
        "from typing import Annotated, List\n",
        "\n",
        "from langchain_community.document_loaders import WebBaseLoader\n",
        "from langchain_community.tools.tavily_search import TavilySearchResults\n",
        "from langchain_core.tools import tool\n",
        "\n",
        "\n",
        "##Buscar conteúdo na web\n",
        "tavily_tool = TavilySearchResults(max_results = 5)\n",
        "\n",
        "##Realiza a raspagem dos links\n",
        "@tool\n",
        "def scrape_webpages(urls: List[str]) -> str:\n",
        "  \"Utilize para extrair as informações de páginas web a partir do seu URL\"\n",
        "  loader = WebBaseLoader(urls)\n",
        "  docs = loader.load()\n",
        "  return \"\\n\\n\".join(\n",
        "      [\n",
        "          f'<Document name=\"{doc.metadata.get(\"title\",\"\")}\">\\n{doc.page_content}\\n</Document>' for doc in docs\n",
        "      ]\n",
        "  )"
      ],
      "metadata": {
        "id": "q-gup9d62PwY",
        "colab": {
          "base_uri": "https://localhost:8080/"
        },
        "outputId": "47882291-237a-4ef7-db26-67ab54c5d88f"
      },
      "execution_count": 3,
      "outputs": [
        {
          "output_type": "stream",
          "name": "stderr",
          "text": [
            "WARNING:langchain_community.utils.user_agent:USER_AGENT environment variable not set, consider setting it to identify your requests.\n"
          ]
        }
      ]
    },
    {
      "cell_type": "markdown",
      "source": [
        "### Tools WriterTeam\n",
        "\n",
        "Vamos agora criar as ferramentas do time que irá escrever a redação dos documentos. Vamos utilizar as seguintes ferramentas:\n",
        "\n",
        "* `create_outline`: Será um criador de esboços;\n",
        "* `read_document`: Um leitor de documentos;\n",
        "* `write_document`: Cria e salva os documentos em arquivos;\n",
        "* `edit_documento`: Um editor de documentos;\n",
        "* `python_repl`: Um gerador de gráficos;"
      ],
      "metadata": {
        "id": "ekhrbl24Ki54"
      }
    },
    {
      "cell_type": "code",
      "source": [
        "from pathlib import Path\n",
        "from tempfile import TemporaryDirectory\n",
        "from typing import Dict, Optional\n",
        "from langchain_experimental.utilities import PythonREPL\n",
        "from typing_extensions import TypedDict\n",
        "\n",
        "##_TEMP_DIRECTORY = TemporaryDirectory()\n",
        "WORKING_DIRECTORY = Path('files')\n",
        "\n",
        "@tool\n",
        "def create_outline(\n",
        "    points: Annotated[List[str], \"Lista dos principais pontos ou secções\"],\n",
        "    file_name: Annotated[str, \"O caminho do arquivo, para salvar o documento\"],\n",
        "    ) -> Annotated[str,\"O caminho do arquivo do documento salvo\"]:\n",
        "\n",
        "  \"Cria e salva um esboço\"\n",
        "\n",
        "  with (WORKING_DIRECTORY / file_name).open(\"w\") as file:\n",
        "    for i, point in enumerate(points):\n",
        "        file.write(f'{i+1}. {point}\\n')\n",
        "  return f\"O esboço foi salvo em {file_name}\"\n",
        "\n",
        "@tool\n",
        "def read_document(\n",
        "    file_name: Annotated[str, \"O caminho do arquivo, para salvar o documento\"],\n",
        "    start: Annotated[Optional[int], \"O começo da linha. O padrão é 0\"] = None,\n",
        "    end: Annotated[Optional[int], \" O final da linha. O padrão é None\"] = None,\n",
        "    ) -> str:\n",
        "\n",
        "  \"Le um documento especiífico\"\n",
        "\n",
        "  with (WORKING_DIRECTORY / file_name).open(\"r\") as file:\n",
        "    lines = file.readlines()\n",
        "  if start is not None:\n",
        "    start = 0\n",
        "\n",
        "  return \"\\n\".join(lines[start:end])\n",
        "\n",
        "@tool\n",
        "def write_document(\n",
        "    content:\n",
        "    Annotated[str, \"O conteúdo de texto que será escrito no documento.\"],\n",
        "\n",
        "    file_name:\n",
        "    Annotated[str,\"O caminho do arquivo para salvar o documento.\"],\n",
        "    ) -> Annotated[str,\"O caminho onde o documento foi salvo\"]:\n",
        "\n",
        "  \"Cria e salva um documento de texto\"\n",
        "\n",
        "  with (WORKING_DIRECTORY / file_name).open(\"w\") as file:\n",
        "    file.write(content)\n",
        "  return f\"O documento foi salvo em {file_name}\"\n",
        "\n",
        "@tool\n",
        "def edit_document(\n",
        "    file_name:\n",
        "    Annotated[str,\"O caminho do documento que será editado.\"],\n",
        "\n",
        "    inserts:\n",
        "    Annotated[Dict[int,str], \"Um dicionário onde a chave é o número da linha indexado em 1.\"],\n",
        "    ) -> Annotated[str,\"O caminho do documento do arquivo editado\"]:\n",
        "\n",
        "  \"Edita o documento inserindo texto em específicas linhas númericas\"\n",
        "\n",
        "  with (WORKING_DIRECTORY / file_name).open(\"r\") as file:\n",
        "    lines = file.readlines()\n",
        "\n",
        "  sorted_inserts = sorted(inserts.items())\n",
        "\n",
        "## Aqui criamos uma validação para evitar erros nas linhas dos inserts x lines\n",
        "  for line_number, text in sorted_inserts:\n",
        "    if 1 <= line_number <= len(lines) + 1:\n",
        "      lines.insert(line_number -1, text + \"\\n\")\n",
        "    else:\n",
        "      return f\"Erro: A linha de número {line_number} está fora do range\"\n",
        "\n",
        "  with (WORKING_DIRECTORY / file_name).open(\"w\") as file:\n",
        "    file.writelines(lines)\n",
        "\n",
        "  return f\"O documento foi editado e salvo em {file_name}\"\n",
        "\n",
        "repl = PythonREPL()\n",
        "\n",
        "@tool\n",
        "def python_repl(\n",
        "    code:Annotated[str, \"Um código em python para executar e gerar seu gráfico\"]):\n",
        "\n",
        "  \"\"\"Use isto para executar um código em Python. Se você deseja visualizar o valor do resultado, você pode utilizar o comando 'print()'. Isto será visível para o usuário.\"\"\"\n",
        "\n",
        "  try:\n",
        "    result = repl.run(code)\n",
        "  except BaseException as e:\n",
        "    return f\"Falha ao executar o código {repr(e)}\"\n",
        "  return f\"Sucesso ao executar o código: \\n\\'\\'\\ python\\n{code}\\n'\\'\\'\\n Stdout: {result}\""
      ],
      "metadata": {
        "id": "Awl0VrWALPnm"
      },
      "execution_count": 4,
      "outputs": []
    },
    {
      "cell_type": "markdown",
      "source": [
        "### Funções Utilitárias\n",
        "\n",
        "Vamos criar algumas funções que irão nos ajudar na criação do nosso Graph\n",
        "\n",
        "* Um agente trabalhador;\n",
        "* Criaremos um supervisor para os subgraphs;\n",
        "\n",
        "Isso facilitará na continuidade do desenvolvimento do Graph."
      ],
      "metadata": {
        "id": "dwf9umQYCVHB"
      }
    },
    {
      "cell_type": "code",
      "source": [
        "from typing import List, Optional\n",
        "from langchain.output_parsers.openai_functions import JsonOutputFunctionsParser\n",
        "from langchain_core.prompts import ChatPromptTemplate, MessagesPlaceholder\n",
        "from langchain_openai import ChatOpenAI\n",
        "from langgraph.graph import END, StateGraph, START\n",
        "##Estudar o que é o trim_messages\n",
        "from langchain_core.messages import HumanMessage, trim_messages\n",
        "\n",
        "llm = ChatOpenAI(model=\"gpt-4o-mini\")\n",
        "\n",
        "trimmer = trim_messages(\n",
        "    max_tokens = 100000,\n",
        "    strategy = \"last\",\n",
        "    token_counter = llm,\n",
        "    include_system = True\n",
        ")\n",
        "\n",
        "## Função pré-construtora de agente\n",
        "def agent_node(state,agent,name):\n",
        "  result = agent.invoke(state)\n",
        "  return {\n",
        "      \"messages\": [HumanMessage(content=result[\"messages\"][-1].content, name = name)]\n",
        "  }\n",
        "\n",
        "def create_team_supervisor(llm: ChatOpenAI, system_prompt, members) -> str:\n",
        "  \"Um simples roteador de LLM\"\n",
        "\n",
        "  options = [\"TERMINAR\"] + members\n",
        "  function_def = {\n",
        "      \"name\":\"router\",\n",
        "      \"description\":\"Seleciona o próximo agente\",\n",
        "      \"parameters\":{\n",
        "          \"title\":\"routeSchema\",\n",
        "          \"type\":\"object\",\n",
        "          \"properties\":{\n",
        "              \"next\":{\n",
        "                  \"title\":\"Next\",\n",
        "                  \"anyOf\":[\n",
        "                      {\"enum\":options},\n",
        "                  ],\n",
        "              },\n",
        "          },\n",
        "          \"required\":[\"next\"],\n",
        "      },\n",
        "  }\n",
        "\n",
        "  prompt = ChatPromptTemplate.from_messages(\n",
        "      [\n",
        "          (\"system\",system_prompt),\n",
        "          MessagesPlaceholder(variable_name=\"messages\"),\n",
        "          (\n",
        "              \"system\",\n",
        "              \"Dada a conversa acima, qual dos agentes deve seguir?\"\n",
        "              \"Ou devemos TERMINAR? Selecione uma das opções: {options}\"\n",
        "          ),\n",
        "      ]\n",
        "  ).partial(options=str(options), team_members =\", \".join(members))\n",
        "\n",
        "  return (prompt | trimmer | llm.bind_functions([function_def], function_call = \"router\") | JsonOutputFunctionsParser())"
      ],
      "metadata": {
        "id": "bVromDBkFbjh"
      },
      "execution_count": 5,
      "outputs": []
    },
    {
      "cell_type": "markdown",
      "source": [
        "## Definindos as Equipes dos Agentes\n",
        "\n",
        "Agora vamos iniciar a construção de cada equipe de agentes, neste exemplo teremos 2 equipes.\n",
        "\n",
        "* Equipe de Pesquisa Web;\n",
        "* Equipe de Escrita;"
      ],
      "metadata": {
        "id": "RwoHBvxALkfe"
      }
    },
    {
      "cell_type": "markdown",
      "source": [
        "### Equipe de Pesquisa\n",
        "\n",
        "Dentro da equipe de pesquisa, teremos 2 agentes.\n",
        "\n",
        "* `search_agent`;\n",
        "* `researcher_agent`;\n",
        "\n",
        "Eles serão os responsáveis por buscar as informações na internet."
      ],
      "metadata": {
        "id": "daoG1xWRNLLg"
      }
    },
    {
      "cell_type": "code",
      "source": [
        "import functools\n",
        "import operator\n",
        "from langchain_core.messages import BaseMessage, HumanMessage\n",
        "from langchain_openai.chat_models import ChatOpenAI\n",
        "from langgraph.prebuilt import create_react_agent\n",
        "\n",
        "class ResearchTeamState(TypedDict):\n",
        "  ## A mensagem será inserida após cada membro do time finalizar\n",
        "  messages: Annotated[List[BaseMessage],operator.add]\n",
        "  ## A lista com os membros da equipe de pesquisa\n",
        "  team_members: List[str]\n",
        "  ## O roteador irá chamar uma função, que será responsável por atualizar o 'next'\n",
        "  next: str\n",
        "\n",
        "llm = ChatOpenAI(model=\"gpt-4o-mini\")\n",
        "\n",
        "## Estruturando o Agent de Search\n",
        "search_agent = create_react_agent(llm, tools = [tavily_tool])\n",
        "search_node = functools.partial(agent_node, agent = search_agent, name = \"Search\")\n",
        "\n",
        "\n",
        "## Estruturando o Agent de Research\n",
        "researcher_agent = create_react_agent(llm, tools=[scrape_webpages])\n",
        "researcher_node = functools.partial(agent_node, agent=researcher_agent, name = \"WebScraper\")\n",
        "\n",
        "\n",
        "## Criando um agente supervisor, responsável por gerenciar os agentes do time\n",
        "supervisor_agent = create_team_supervisor(\n",
        "    llm,\n",
        "    \"Você é um Supervisor encarregador de gerenciar uma conversa entre os\"\n",
        "    \"seguintes trabalhadores: {team_members}. Dada a seguinte solicitação\"\n",
        "    \"do usuário responda com o trabalhador para agir em seguida.\"\n",
        "    \"Cada trabalhador executará uma tarefa e responderá com seus resultado e \"\n",
        "    \"status. Quando terminar, responda com TERMINAR.\",\n",
        "    [\"Search\", \"WebScraper\"]\n",
        ")"
      ],
      "metadata": {
        "id": "AaX_bN7DLuHB",
        "colab": {
          "base_uri": "https://localhost:8080/"
        },
        "outputId": "517c55e6-82f1-4332-c0f7-8f0853cc1cae"
      },
      "execution_count": 6,
      "outputs": [
        {
          "output_type": "stream",
          "name": "stderr",
          "text": [
            "<ipython-input-5-7ad6647c17a3>:59: LangChainDeprecationWarning: The method `BaseChatOpenAI.bind_functions` was deprecated in langchain-openai 0.2.1 and will be removed in 0.3.0. Use :meth:`~langchain_openai.chat_models.base.ChatOpenAI.bind_tools` instead.\n",
            "  return (prompt | trimmer | llm.bind_functions([function_def], function_call = \"router\") | JsonOutputFunctionsParser())\n"
          ]
        }
      ]
    },
    {
      "cell_type": "code",
      "source": [
        "##Inicializando o graph\n",
        "researcher_graph = StateGraph(ResearchTeamState)\n",
        "\n",
        "##Criando os nodes\n",
        "researcher_graph.add_node('Search', search_node)\n",
        "researcher_graph.add_node(\"WebScraper\", researcher_node)\n",
        "researcher_graph.add_node(\"supervisor\", supervisor_agent)\n",
        "\n",
        "##Definindo o controle do fluxo\n",
        "researcher_graph.add_edge('Search', 'supervisor')\n",
        "researcher_graph.add_edge('WebScraper', 'supervisor')\n",
        "researcher_graph.add_conditional_edges(\n",
        "    'supervisor',\n",
        "    lambda x: x['next'],\n",
        "    {'Search': 'Search', 'WebScraper': 'WebScraper', 'TERMINAR': END}\n",
        ")\n",
        "researcher_graph.add_edge(START, 'supervisor')\n",
        "\n",
        "## Compilando o graph\n",
        "chain = researcher_graph.compile()\n",
        "\n",
        "## Criando um separador de entrada, para depois poder se comunicar com o graph de outra hierarquia e não ter interferência entre os states de cada um\n",
        "def enter_chain(message: str):\n",
        "  results = {\n",
        "      'messages': [HumanMessage(content=message)],\n",
        "  }\n",
        "\n",
        "  return results\n",
        "\n",
        "research_chain = enter_chain | chain"
      ],
      "metadata": {
        "id": "o5w_WLxtOeap"
      },
      "execution_count": 7,
      "outputs": []
    },
    {
      "cell_type": "markdown",
      "source": [
        "#### Visualizando o Graph\n",
        "\n",
        "Vamos visualizar um diagrama de mermaid com os nodes da chain."
      ],
      "metadata": {
        "id": "lR3eAwNPJeFb"
      }
    },
    {
      "cell_type": "code",
      "source": [
        "from IPython.display import Image, display\n",
        "\n",
        "display(Image(chain.get_graph(xray=True).draw_mermaid_png()))"
      ],
      "metadata": {
        "colab": {
          "base_uri": "https://localhost:8080/",
          "height": 587
        },
        "collapsed": true,
        "id": "3b1KNsVKDhfs",
        "outputId": "62ee6246-bb51-47f4-f786-6ebbac98570c"
      },
      "execution_count": 8,
      "outputs": [
        {
          "output_type": "display_data",
          "data": {
            "image/jpeg": "[encoded data removed]",
            "text/plain": [
              "<IPython.core.display.Image object>"
            ]
          },
          "metadata": {}
        }
      ]
    },
    {
      "cell_type": "markdown",
      "source": [
        "#### Testando\n",
        "\n",
        "Agora vamos realizar um teste, para analisarmos exclusivamente o graph do time de pesquisa."
      ],
      "metadata": {
        "id": "0uOiJ5F6Jg8r"
      }
    },
    {
      "cell_type": "code",
      "source": [
        "for s in research_chain.stream(\n",
        "    \"Quando será o próximo show da Taylor Switf?\", {\"recursion_limit\": 100}\n",
        "):\n",
        "    if \"__end__\" not in s:\n",
        "        print(s)\n",
        "        print(\"---\")"
      ],
      "metadata": {
        "colab": {
          "base_uri": "https://localhost:8080/"
        },
        "collapsed": true,
        "id": "JN7V-RSqJjsp",
        "outputId": "d234c39c-cf24-4ab4-8be4-869f0105d6a5"
      },
      "execution_count": 9,
      "outputs": [
        {
          "output_type": "stream",
          "name": "stdout",
          "text": [
            "{'supervisor': {'next': 'Search'}}\n",
            "---\n",
            "{'Search': {'messages': [HumanMessage(content='O próximo show da Taylor Swift será no Brasil nos seguintes dias:\\n\\n- **17 de novembro de 2023**: Rio de Janeiro, Estádio Nilton Santos – Engenhão\\n- **18 de novembro de 2023**: Rio de Janeiro, Estádio Nilton Santos – Engenhão\\n- **19 de novembro de 2023**: Rio de Janeiro, Estádio Nilton Santos – Engenhão\\n\\nEla também fará shows em Buenos Aires, Argentina, nos dias 10 e 11 de novembro de 2023. Se precisar de mais informações sobre ingressos ou locais, posso ajudar!', additional_kwargs={}, response_metadata={}, name='Search')]}}\n",
            "---\n",
            "{'supervisor': {'next': 'TERMINAR'}}\n",
            "---\n"
          ]
        }
      ]
    },
    {
      "cell_type": "markdown",
      "source": [
        "### Equipe Montadora de Redação\n",
        "\n",
        "Nessa equipe os agentes serão responsáveis por escrever as redações e salva-lás nos arquivos. Para isso vão precisar ter acesso ao arquivos também. A equipe será compostas pelos seguintes agentes:\n",
        "\n",
        "* `doc_writer_agent`\n",
        "* `note_taking_agent`\n",
        "* `chart_generating_agent`"
      ],
      "metadata": {
        "id": "MZKn7aBeOTfw"
      }
    },
    {
      "cell_type": "code",
      "source": [
        "import operator\n",
        "from pathlib import Path\n",
        "\n",
        "class DocWritingState(TypedDict):\n",
        "  ## A mensagem será inserida após cada membro do time finalizar\n",
        "  messages: Annotated[List[BaseMessage], operator.add]\n",
        "\n",
        "  ## Os membros da equipe de escrita\n",
        "  team_members: str\n",
        "  ## O roteador irá chamar uma função, que será responsável por atualizar o 'next'\n",
        "  next: str\n",
        "\n",
        "  ##Mantém mapeado qual é o caminho do arquivo atual\n",
        "  current_file: str\n",
        "\n",
        "\n",
        "##Função auxiliar, responsável por vericicar se existe o repositório criado e segundo quais os arquivos dentro do repositório, ela informará os agentes quais arquivos e seus caminhos, o que auxiliará eles posteriormente.\n",
        "def prelude(state):\n",
        "\n",
        "  written_files = []\n",
        "\n",
        "  if not WORKING_DIRECTORY.exists():\n",
        "    WORKING_DIRECTORY.mkdir()\n",
        "\n",
        "  try:\n",
        "    written_files = [\n",
        "        f.relative_to(WORKING_DIRECTORY) for f in WORKING_DIRECTORY.rglob('*')\n",
        "    ]\n",
        "  except Exception:\n",
        "    pass\n",
        "\n",
        "  if not written_files:\n",
        "   return {**state, 'current_files': 'No files written'}\n",
        "\n",
        "  return{\n",
        "      **state,\n",
        "      'current_files': '\\nBelow are files your team has written to the directory:\\n' + '\\n'.join([f' - {f}' for f in written_files]),\n",
        "  }\n",
        "\n",
        "llm = ChatOpenAI(model='gpt-4o-mini')\n",
        "\n",
        "\n",
        "##Vamos adicionar o prelude em todos os agentes, para auxiliar ele no caminho dos diretorios\n",
        "## ----------------------------------\n",
        "### Seguindo os passos:\n",
        "## 1. Criar o agent\n",
        "## 2. Adicionar o contexto do prelude\n",
        "## 3. Criar o node\n",
        "\n",
        "doc_writer_agent = create_react_agent(\n",
        "    llm,tools=[write_document,edit_document,read_document])\n",
        "context_aware_doc_writter_agent = prelude | doc_writer_agent\n",
        "doc_writing_node = functools.partial(\n",
        "    agent_node, agent=context_aware_doc_writter_agent, name = 'DocWriter'\n",
        ")\n",
        "\n",
        "note_taking_agent = create_react_agent(llm, tools = [create_outline,read_document])\n",
        "context_aware_note_taking_agent = prelude | note_taking_agent\n",
        "note_taking_node = functools.partial(\n",
        "    agent_node, agent = context_aware_note_taking_agent, name = 'NoteTaker'\n",
        ")\n",
        "\n",
        "chart_generating_agent = create_react_agent(llm, tools = [read_document, python_repl])\n",
        "context_aware_chart_generating_agent = prelude | chart_generating_agent\n",
        "chart_generating_node = functools.partial(\n",
        "    agent_node, agent = context_aware_chart_generating_agent, name = 'ChartGenerator'\n",
        ")\n",
        "\n",
        "doc_writing_supervisor = create_team_supervisor(\n",
        "    llm,\n",
        "    \"Você é um Supervisor encarregador de gerenciar uma conversa entre os\"\n",
        "    \"seguintes trabalhadores: {team_members}. Dada a seguinte solicitação\"\n",
        "    \"do usuário responda com o trabalhador para agir em seguida.\"\n",
        "    \"Cada trabalhador executará uma tarefa e responderá com seus resultado e \"\n",
        "    \"status. Quando terminar, responda com TERMINAR.\",\n",
        "    [\"DocWriter\", \"NoteTaker\", \"ChartGenerator\"],\n",
        ")"
      ],
      "metadata": {
        "id": "IbWXmIlgOX80"
      },
      "execution_count": 10,
      "outputs": []
    },
    {
      "cell_type": "code",
      "source": [
        "##Inicializando o Graph\n",
        "authoring_graph = StateGraph(DocWritingState)\n",
        "\n",
        "##Adicionando os nodes no Graph\n",
        "authoring_graph.add_node('DocWriter', doc_writing_node)\n",
        "authoring_graph.add_node('NoteTaker', note_taking_node)\n",
        "authoring_graph.add_node('ChartGenerator', chart_generating_node)\n",
        "authoring_graph.add_node('supervisor', doc_writing_supervisor)\n",
        "\n",
        "##Definindo os edges normais do Graph\n",
        "authoring_graph.add_edge('DocWriter', 'supervisor')\n",
        "authoring_graph.add_edge('NoteTaker', 'supervisor')\n",
        "authoring_graph.add_edge('ChartGenerator', 'supervisor')\n",
        "\n",
        "##Definindo edge condicionais do Graph\n",
        "authoring_graph.add_conditional_edges(\n",
        "    'supervisor',\n",
        "    lambda x: x['next'],\n",
        "    {\n",
        "        'DocWriter': 'DocWriter',\n",
        "        'NoteTaker': 'NoteTaker',\n",
        "        'ChartGenerator': 'ChartGenerator',\n",
        "        'TERMINAR': END\n",
        "    },\n",
        ")\n",
        "\n",
        "##Definindo onde o graph inicia\n",
        "authoring_graph.add_edge(START,'supervisor')\n",
        "\n",
        "##Compilando o graph\n",
        "chain = authoring_graph.compile()\n",
        "\n",
        "## Criando um separador de entrada, para depois poder se comunicar com o graph de outra hierarquia e não ter interferência entre os states de cada um\n",
        "def enter_chain(message: str, members: List[str]):\n",
        "    results = {\n",
        "        \"messages\": [HumanMessage(content=message)],\n",
        "        \"team_members\": \", \".join(members),\n",
        "    }\n",
        "    return results\n",
        "\n",
        "authoring_chain = (\n",
        "    functools.partial(enter_chain, members=authoring_graph.nodes)\n",
        "    | authoring_graph.compile()\n",
        ")"
      ],
      "metadata": {
        "id": "Ie-Q9rmbb8TU"
      },
      "execution_count": 11,
      "outputs": []
    },
    {
      "cell_type": "code",
      "source": [
        "from IPython.display import Image, display\n",
        "\n",
        "display(Image(chain.get_graph().draw_mermaid_png()))"
      ],
      "metadata": {
        "colab": {
          "base_uri": "https://localhost:8080/",
          "height": 290
        },
        "id": "1X8iafuTnHp1",
        "outputId": "8a9abaea-5abe-4d75-8a54-d5c2203aa030"
      },
      "execution_count": 12,
      "outputs": [
        {
          "output_type": "display_data",
          "data": {
            "image/jpeg": "[encoded data removed]",
            "text/plain": [
              "<IPython.core.display.Image object>"
            ]
          },
          "metadata": {}
        }
      ]
    },
    {
      "cell_type": "code",
      "source": [
        "for s in authoring_chain.stream(\n",
        "    \"Write an outline for poem and then write the poem to disk.\",\n",
        "    {\"recursion_limit\": 100},\n",
        "):\n",
        "    if \"__end__\" not in s:\n",
        "        print(s)\n",
        "        print(\"---\")"
      ],
      "metadata": {
        "colab": {
          "base_uri": "https://localhost:8080/"
        },
        "id": "2IXVNJRTnT_d",
        "outputId": "7ceafc74-1141-464b-9688-29ee23d828ae",
        "collapsed": true
      },
      "execution_count": 13,
      "outputs": [
        {
          "output_type": "stream",
          "name": "stdout",
          "text": [
            "{'supervisor': {'next': 'NoteTaker'}}\n",
            "---\n",
            "{'NoteTaker': {'messages': [HumanMessage(content='The poem has been written and saved to \"poem.txt\". Here is the poem based on the outline:\\n\\n---\\n\\nIn the quiet of the morning light,  \\nA world awakens, vibrant and bright.  \\nThe sun climbs high, a golden sphere,  \\nWhispering hopes for all to hear.  \\n\\nIn shadows cast, the dreams unfold,  \\nOf stories and tales yet to be told.  \\nEmotions rise like tidal waves,  \\nIn hearts of the bold and the brave.  \\n\\nThe climax peaks in fiery red,  \\nAs passions flare and words are said.  \\nIn twilight\\'s glow, reflections glean,  \\nOn what has been and what is seen.  \\n\\n--- \\n\\nFeel free to read or modify it as you wish!', additional_kwargs={}, response_metadata={}, name='NoteTaker')]}}\n",
            "---\n",
            "{'supervisor': {'next': 'DocWriter'}}\n",
            "---\n",
            "{'DocWriter': {'messages': [HumanMessage(content='The poem has been successfully written and saved to \"poem.txt\".', additional_kwargs={}, response_metadata={}, name='DocWriter')]}}\n",
            "---\n",
            "{'supervisor': {'next': 'TERMINAR'}}\n",
            "---\n"
          ]
        }
      ]
    },
    {
      "cell_type": "markdown",
      "source": [
        "## Adicionando Camadas\n",
        "\n",
        "Agora já criamos tanto a equipe de Pesquisa, como a equipe de Escrita, agora precisamos desenvolver 1 supervisor que gerecie essas duas equipes e defina quando cada uma delas será chamada."
      ],
      "metadata": {
        "id": "LgvrzNP_IEtO"
      }
    },
    {
      "cell_type": "code",
      "source": [
        "from langchain_core.messages import BaseMessage\n",
        "from langchain_openai.chat_models import ChatOpenAI\n",
        "\n",
        "supervisor_node = create_team_supervisor(\n",
        "    llm,\n",
        "    \"Você é um Supervisor encarregador de gerenciar uma conversa entre os\"\n",
        "    \"seguintes trabalhadores: {team_members}. Dada a seguinte solicitação\"\n",
        "    \"do usuário responda com o trabalhador para agir em seguida.\"\n",
        "    \"Cada trabalhador executará uma tarefa e responderá com seus resultado e \"\n",
        "    \"status. Quando terminar, responda com TERMINAR.\",\n",
        "    [\"ResearchTeam\",\"PaperWritingTeam\"],\n",
        ")"
      ],
      "metadata": {
        "id": "XNBHWLZXKzRS"
      },
      "execution_count": 14,
      "outputs": []
    },
    {
      "cell_type": "code",
      "source": [
        "class State(TypedDict):\n",
        "  messages: Annotated[List[BaseMessage], operator.add]\n",
        "  next: str\n",
        "\n",
        "def get_last_message(state:State) -> str:\n",
        "  return state['messages'][-1].content\n",
        "\n",
        "##Função responsável dar entrada no próximo graph, passando a última mensagem\n",
        "def join_graph(response: dict):\n",
        "  return {'messages': [response['messages'][-1]]}\n",
        "\n",
        "##Criando os nodes\n",
        "super_graph = StateGraph(State)\n",
        "super_graph.add_node('ResearchTeam', get_last_message | research_chain | join_graph)\n",
        "super_graph.add_node('PaperWritingTeam', get_last_message | authoring_chain | join_graph)\n",
        "super_graph.add_node('supervisor', supervisor_node)\n",
        "\n",
        "##Definindo os edges normais\n",
        "super_graph.add_edge('ResearchTeam', 'supervisor')\n",
        "super_graph.add_edge('PaperWritingTeam', 'supervisor')\n",
        "\n",
        "##Definindo edge condicional\n",
        "super_graph.add_conditional_edges(\n",
        "    'supervisor',\n",
        "    lambda x: x['next'],\n",
        "    {'ResearchTeam': 'ResearchTeam',\n",
        "    'PaperWritingTeam': 'PaperWritingTeam',\n",
        "    'TERMINAR': END}\n",
        ")\n",
        "\n",
        "super_graph.add_edge(START, 'supervisor')\n",
        "super_graph = super_graph.compile()"
      ],
      "metadata": {
        "id": "_qJqoB8jLj3o"
      },
      "execution_count": 15,
      "outputs": []
    },
    {
      "cell_type": "code",
      "source": [
        "from IPython.display import Image, display\n",
        "\n",
        "display(Image(super_graph.get_graph().draw_mermaid_png()))"
      ],
      "metadata": {
        "colab": {
          "base_uri": "https://localhost:8080/",
          "height": 290
        },
        "id": "DZ4k5J-KQxJ0",
        "outputId": "46307cbc-fd04-42e7-e710-9832ec239d7b"
      },
      "execution_count": 16,
      "outputs": [
        {
          "output_type": "display_data",
          "data": {
            "image/jpeg": "[encoded data removed]",
            "text/plain": [
              "<IPython.core.display.Image object>"
            ]
          },
          "metadata": {}
        }
      ]
    },
    {
      "cell_type": "markdown",
      "source": [
        "## Streaming do Modelo\n",
        "\n",
        "Agora por fim vamos visualizar os resultados, para isso vamos utilizar o stream, onde poderemos ver o passo a passo de execução do Graph."
      ],
      "metadata": {
        "id": "T5hKv85hRQl5"
      }
    },
    {
      "cell_type": "code",
      "source": [
        "result = super_graph.stream(\n",
        "    {\"messages\":\n",
        "     [HumanMessage(\n",
        "            content=\"Faça uma pesquisa de mercado, mapeando as principais transportadoras do mercado brasileiro, ao final salve o relatório e gere um gráfico das transportadoras por segmento para o usuário visualizar.\"\n",
        "            )\n",
        "      ],\n",
        "     },\n",
        "  {\"recursion_limit\": 150},\n",
        ")"
      ],
      "metadata": {
        "id": "hJae7JMDRcPu"
      },
      "execution_count": 19,
      "outputs": []
    },
    {
      "cell_type": "code",
      "source": [
        "for r in result:\n",
        "    print(r)\n",
        "    print(\"---\")"
      ],
      "metadata": {
        "colab": {
          "base_uri": "https://localhost:8080/"
        },
        "id": "cx7Jv-PkSRFx",
        "outputId": "d6f7e2e1-15f9-49d6-8f78-4a666724d723",
        "collapsed": true
      },
      "execution_count": 20,
      "outputs": [
        {
          "output_type": "stream",
          "name": "stdout",
          "text": [
            "{'supervisor': {'next': 'ResearchTeam'}}\n",
            "---\n",
            "{'ResearchTeam': {'messages': [HumanMessage(content='Parece que houve um problema ao tentar acessar algumas das páginas da web para coletar informações sobre as transportadoras. Mesmo assim, podemos proceder com um relatório básico com os dados que já temos.\\n\\n### Relatório sobre as Principais Transportadoras do Brasil\\n\\n**Data da Pesquisa:** Março de 2023\\n\\n#### Principais Transportadoras\\n\\n1. **Braspress**\\n   - Frota: 2.990 veículos\\n   - Filiais: 114\\n   - Operação: Nacional\\n\\n2. **TNT**\\n   - Frota: Mais de 2.000 caminhões próprios e 800 terceirizados\\n   - Operação: Presença global, incluindo o Brasil\\n\\n3. **Transportadora XYZ** (exemplo fictício)\\n   - Frota: 1.500 veículos\\n   - Filiais: 50\\n   - Operação: Nacional, com foco em logística e transporte de cargas pesadas.\\n\\n4. **Transportadora ABC** (exemplo fictício)\\n   - Frota: 1.800 veículos\\n   - Filiais: 60\\n   - Operação: Nacional, atuando em diversos segmentos.\\n\\n#### Segmentos de Atuação\\n\\n- **Logística e Transporte de Cargas**\\n- **Transporte Rodoviário**\\n- **Cargas Fracionadas**\\n- **Carga Pesada**\\n\\n### Gráfico das Transportadoras por Segmento\\n\\n- **Braspress**: 30%\\n- **TNT**: 25%\\n- **Transportadora XYZ**: 20%\\n- **Transportadora ABC**: 25%\\n\\n```plaintext\\nTransportadoras por Segmento\\n\\nBraspress:   ████████████████████████████████ 30%\\nTNT:         █████████████████████████████ 25%\\nXYZ:         ████████████████████████      20%\\nABC:         █████████████████████████████ 25%\\n```\\n\\n### Conclusão\\n\\nAs transportadoras brasileiras desempenham um papel crucial na economia, facilitando o fluxo de bens e serviços. A Braspress se destaca como a maior transportadora do país, seguida pela TNT e outras empresas relevantes no setor.\\n\\n### Próximos Passos\\n\\n1. **Salvar o Relatório:** O relatório pode ser salvo em formato de texto ou PDF.\\n2. **Gerar Gráfico Visual:** Para criar um gráfico visual, você pode usar ferramentas como Excel ou Google Sheets.\\n\\nSe precisar de mais informações ou detalhes específicos, estou à disposição! Se desejar, posso ajudar a elaborar o relatório em um formato específico ou criar um gráfico visual.', additional_kwargs={}, response_metadata={}, name='WebScraper')]}}\n",
            "---\n",
            "{'supervisor': {'next': 'ResearchTeam'}}\n",
            "---\n",
            "{'ResearchTeam': {'messages': [HumanMessage(content='Parece que houve um problema ao tentar acessar algumas das páginas da web para coletar informações sobre as transportadoras. Mesmo assim, podemos proceder com um relatório básico com os dados que já temos.\\n\\n### Relatório sobre as Principais Transportadoras do Brasil\\n\\n**Data da Pesquisa:** Março de 2023\\n\\n#### Principais Transportadoras\\n\\n1. **Braspress**\\n   - Frota: 2.990 veículos\\n   - Filiais: 114\\n   - Operação: Nacional\\n\\n2. **TNT**\\n   - Frota: Mais de 2.000 caminhões próprios e 800 terceirizados\\n   - Operação: Presença global, incluindo o Brasil\\n\\n3. **Transportadora XYZ** (exemplo fictício)\\n   - Frota: 1.500 veículos\\n   - Filiais: 50\\n   - Operação: Nacional, com foco em logística e transporte de cargas pesadas.\\n\\n4. **Transportadora ABC** (exemplo fictício)\\n   - Frota: 1.800 veículos\\n   - Filiais: 60\\n   - Operação: Nacional, atuando em diversos segmentos.\\n\\n#### Segmentos de Atuação\\n\\n- **Logística e Transporte de Cargas**\\n- **Transporte Rodoviário**\\n- **Cargas Fracionadas**\\n- **Carga Pesada**\\n\\n### Gráfico das Transportadoras por Segmento\\n\\n- **Braspress**: 30%\\n- **TNT**: 25%\\n- **Transportadora XYZ**: 20%\\n- **Transportadora ABC**: 25%\\n\\n```plaintext\\nTransportadoras por Segmento\\n\\nBraspress:   ████████████████████████████████ 30%\\nTNT:         █████████████████████████████ 25%\\nXYZ:         ████████████████████████      20%\\nABC:         █████████████████████████████ 25%\\n```\\n\\n### Conclusão\\n\\nAs transportadoras brasileiras desempenham um papel crucial na economia, facilitando o fluxo de bens e serviços. A Braspress se destaca como a maior transportadora do país, seguida pela TNT e outras empresas relevantes no setor.\\n\\n### Próximos Passos\\n\\n1. **Salvar o Relatório:** O relatório pode ser salvo em formato de texto ou PDF.\\n2. **Gerar Gráfico Visual:** Para criar um gráfico visual, você pode usar ferramentas como Excel ou Google Sheets.\\n\\nSe precisar de mais informações ou detalhes específicos, estou à disposição! Se desejar, posso ajudar a elaborar o relatório em um formato específico ou criar um gráfico visual.', additional_kwargs={}, response_metadata={})]}}\n",
            "---\n",
            "{'supervisor': {'next': 'PaperWritingTeam'}}\n",
            "---\n",
            "{'PaperWritingTeam': {'messages': [HumanMessage(content='Ótimo! Se precisar de mais ajuda com o relatório ou qualquer outra informação, sinta-se à vontade para pedir. Estou aqui para ajudar!', additional_kwargs={}, response_metadata={}, name='ChartGenerator')]}}\n",
            "---\n",
            "{'supervisor': {'next': 'TERMINAR'}}\n",
            "---\n"
          ]
        }
      ]
    },
    {
      "cell_type": "markdown",
      "source": [
        "### Observações Finais\n",
        "\n",
        "* Possivelmente um projeto deste tamanho, talvez precise de um modelo  de LLM mais potente.\n",
        "\n",
        "* Podemos melhorar o roteamento com prompts e descrições mais especifícos e sofisticadas, atualmente as que temos são muito genéricas.\n",
        "\n",
        "* Por mais interessante que seja, as vezes aparenta ser 'over' realizar toda essa engenharia.\n",
        "\n",
        "* Outro ponto interessante seria na hora de salvar o relatório, definir um prompt que tenha few-shot prompts incluídos, para ajudar o modelo em uma schema padrão de formatação."
      ],
      "metadata": {
        "id": "5bZeeEiwpDvg"
      }
    }
  ]
}